{
 "cells": [
  {
   "cell_type": "markdown",
   "source": [
    "# National Survey on Drug Use and Health Analysis\n",
    "### Data from: 2012 (ICPSR 34933)\n",
    "\n",
    "The National Survey on Drug Use and Health (NSDUH) is primarily used to measure the prevalence of drug use in the United \n",
    "States.\n",
    "In this exploratory data analysis we will look at the correlation of overall drug abuse patters including:\n",
    "* Cigarette use transitioning to marijuana use\n",
    "* Marijuana as a gateway drug\n",
    "* Prescription painkiller use leading to heroin use\n",
    "* Beginning age of use as an indicator of later drug use\n",
    "\n",
    "In the [machine learning](https://www.github.com/msloma144/ICPSR_analyis/machine_learning.ipynb) notebook we look at \n",
    "using background information to attempt to predict hard drug use.\n",
    "\n",
    "The data in this study is mostly self reported, so we need to keep that in mind while performing our evaluation."
   ],
   "metadata": {
    "collapsed": false
   }
  },
  {
   "cell_type": "code",
   "execution_count": 1,
   "outputs": [],
   "source": [
    "import pandas as pd\n",
    "pd.options.mode.chained_assignment = None\n",
    "import matplotlib.pyplot as plt\n",
    "import numpy as np"
   ],
   "metadata": {
    "collapsed": false,
    "pycharm": {
     "name": "#%%\n",
     "is_executing": false
    }
   }
  },
  {
   "cell_type": "code",
   "execution_count": 2,
   "outputs": [],
   "source": [
    "# correlation helper\n",
    "def visualize_data(df, rows=None):\n",
    "    df_corr = df.corr()\n",
    "    print(df_corr.head(10))\n",
    "\n",
    "    data = df_corr.values\n",
    "    \n",
    "    if rows is not None:\n",
    "        data = data[rows].reshape(len(rows), data.shape[1])\n",
    "    \n",
    "    fig = plt.figure()\n",
    "    ax = fig.add_subplot(1, 1, 1)\n",
    "    heatmap = ax.pcolor(data, cmap=plt.cm.RdYlGn)\n",
    "    fig.colorbar(heatmap)\n",
    "\n",
    "    ax.set_xticks(np.arange(data.shape[0]), minor=False)\n",
    "    ax.set_yticks(np.arange(data.shape[1]), minor=False)\n",
    "    ax.invert_yaxis()\n",
    "    ax.xaxis.tick_top()\n",
    "\n",
    "    plt.xticks(rotation=90)\n",
    "    heatmap.set_clim(-1, 1)\n",
    "    plt.tight_layout()\n",
    "    plt.show()"
   ],
   "metadata": {
    "collapsed": false,
    "pycharm": {
     "name": "#%%\n",
     "is_executing": false
    }
   }
  },
  {
   "cell_type": "code",
   "execution_count": 3,
   "outputs": [
    {
     "name": "stdout",
     "text": [
      "(55268, 3120)\n   CASEID  QUESTID2  CIGEVER  CIGOFRSM  CIGWILYR  CIGTRY  CIGYFU  CIGMFU  \\\n0       1  50886467        2         4         4     991    9991      91   \n1       2  13766883        2        99        99     991    9991      91   \n2       3  17772877        2        99        99     991    9991      91   \n3       4  45622817        1        99        99      13    9999      99   \n4       5  17239390        1        99        99      11    9999      99   \n\n   CIGREC  CIG30USE  ...  IIEMPSTY  II2EMSTY  EMPSTAT4  IIEMPST4  II2EMST4  \\\n0      91        91  ...         1         1        99         9         9   \n1      91        91  ...         1         1         1         1         1   \n2      91        91  ...         1         1         1         1         1   \n3       2        93  ...         1         1         2         1         1   \n4       4        93  ...         1         1         1         1         1   \n\n   PDEN00  COUTYP2      ANALWT_C  VESTR  VEREP  \n0       2        2   1275.597449  30054      2  \n1       2        2   5191.071173  30031      1  \n2       3        3    419.742011  30056      2  \n3       2        2   1449.303889  30054      1  \n4       1        1  15344.293577  30012      2  \n\n[5 rows x 3120 columns]\n",
      "Empty DataFrame\nColumns: [CASEID, QUESTID2, CIGEVER, CIGOFRSM, CIGWILYR, CIGTRY, CIGYFU, CIGMFU, CIGREC, CIG30USE, CG30EST, CIG30AV, CIG30BR2, CIG30TPE, CIG30MEN, CIG30MLN, CIG30RO2, CIGDLYMO, CIGAGE, CIGDLYFU, CIGDLMFU, CIG100LF, SNFEVER, SNUFTRY, SNUFYFU, SNUFMFU, SNFREC, SNF30USE, SN30EST, SNF30BR2, CHEWEVER, CHEWTRY, CHEWYFU, CHEWMFU, CHEWREC, CHW30USE, CH30EST, CHW30BR2, SLTTRY, SLTYFU, SLTMFU, SLTREC, SLT30BR2, SLT30FAV, CIGAREVR, CIGARTRY, CIGARYFU, CIGARMFU, CIGARREC, CGR30USE, CI30EST, CGR30BR2, PIPEVER, PIPE30DY, ALCEVER, ALCTRY, ALCYFU, ALCMFU, ALCREC, ALCYRTOT, ALTOTFG, ALFQFLG, ALBSTWAY, ALDAYPYR, ALDAYPMO, ALDAYPWK, ALCDAYS, AL30EST, ALDYSFG, NODR30A, DR5DAY, MJEVER, MJAGE, MJYFU, MJMFU, MJREC, MJYRTOT, MRTOTFG, MJFQFLG, MRBSTWAY, MRDAYPYR, MRDAYPMO, MRDAYPWK, MJDAY30A, MR30EST, COCEVER, COCAGE, COCYFU, COCMFU, COCREC, COCYRTOT, CCTOTFG, CCFQFLG, CCBSTWAY, CCDAYPYR, CCDAYPMO, CCDAYPWK, COCUS30A, CC30EST, CRKEVER, ...]\nIndex: []\n\n[0 rows x 3120 columns]\n",
      "Empty DataFrame\nColumns: [CASEID, QUESTID2, CIGEVER, CIGOFRSM, CIGWILYR, CIGTRY, CIGYFU, CIGMFU, CIGREC, CIG30USE, CG30EST, CIG30AV, CIG30BR2, CIG30TPE, CIG30MEN, CIG30MLN, CIG30RO2, CIGDLYMO, CIGAGE, CIGDLYFU, CIGDLMFU, CIG100LF, SNFEVER, SNUFTRY, SNUFYFU, SNUFMFU, SNFREC, SNF30USE, SN30EST, SNF30BR2, CHEWEVER, CHEWTRY, CHEWYFU, CHEWMFU, CHEWREC, CHW30USE, CH30EST, CHW30BR2, SLTTRY, SLTYFU, SLTMFU, SLTREC, SLT30BR2, SLT30FAV, CIGAREVR, CIGARTRY, CIGARYFU, CIGARMFU, CIGARREC, CGR30USE, CI30EST, CGR30BR2, PIPEVER, PIPE30DY, ALCEVER, ALCTRY, ALCYFU, ALCMFU, ALCREC, ALCYRTOT, ALTOTFG, ALFQFLG, ALBSTWAY, ALDAYPYR, ALDAYPMO, ALDAYPWK, ALCDAYS, AL30EST, ALDYSFG, NODR30A, DR5DAY, MJEVER, MJAGE, MJYFU, MJMFU, MJREC, MJYRTOT, MRTOTFG, MJFQFLG, MRBSTWAY, MRDAYPYR, MRDAYPMO, MRDAYPWK, MJDAY30A, MR30EST, COCEVER, COCAGE, COCYFU, COCMFU, COCREC, COCYRTOT, CCTOTFG, CCFQFLG, CCBSTWAY, CCDAYPYR, CCDAYPMO, CCDAYPWK, COCUS30A, CC30EST, CRKEVER, ...]\nIndex: []\n\n[0 rows x 3120 columns]\n"
     ],
     "output_type": "stream"
    }
   ],
   "source": [
    "# Load the data\n",
    "data = pd.read_csv('DS0001/34933-0001-Data.tsv', sep='\\t', header=0)\n",
    "print(data.shape)\n",
    "print(data.head())\n",
    "# check for missing values\n",
    "print(data[np.isinf(data.values).any(axis=1)])\n",
    "print(data[np.isnan(data.values).any(axis=1)])"
   ],
   "metadata": {
    "collapsed": false,
    "pycharm": {
     "name": "#%%\n",
     "is_executing": false
    }
   }
  },
  {
   "cell_type": "markdown",
   "source": [
    "## Cigarette Use Transitioning To Marijuana Use\n",
    "In this analysis, we explore the relationship of marijuana and cigarette. We use four variables from the study; if \n",
    "cigarettes have _ever_  been used, if marijuana has _ever_ been used, if cigarettes were used in the past 30 days, and\n",
    "if marijuana was used in the past 30 days. The \"past 30 days\" metric shows that they likely did not just try it once,\n",
    "but are likely a chronic user of the drug. We change each of these to binary values (0 for having never done the drug \n",
    "or 1 for having done it).\n",
    "\n",
    "Variables from the NSDUH study:\n",
    "* CIGEVER: EVER USED CIGERTES\n",
    "\n",
    "    1 = yes\n",
    "    \n",
    "    0 = no\n",
    "    \n",
    "* CIGREC: TIME SINCE LAST SMOKED CIGARETTES\n",
    "\n",
    "    1 = Within the past 30 days\n",
    "    \n",
    "    0 = Other *\n",
    "    \n",
    "* MJEVER: EVER USED MARIJUANA/HASHISH\n",
    "\n",
    "    1 = yes\n",
    "    \n",
    "    0 = no\n",
    "    \n",
    "* MJREC: TIME SINCE LAST USED MARIJUANA/HASHISH\n",
    "\n",
    "    1 = Within the past 30 days\n",
    "    \n",
    "    0 = Other *\n",
    "    \n",
    "\\* All other time amounts are considers as not a chronic user."
   ],
   "metadata": {
    "collapsed": false
   }
  },
  {
   "cell_type": "code",
   "execution_count": 39,
   "outputs": [
    {
     "name": "stdout",
     "text": [
      "   CIGEVER  CIGREC  MJEVER  MJREC\n0        0       0       0      0\n1        0       0       0      0\n2        0       0       0      0\n3        1       0       1      1\n4        1       0       0      0\n"
     ],
     "output_type": "stream"
    }
   ],
   "source": [
    "data_selection = data[[\"CIGEVER\", \"CIGREC\", \"MJEVER\", \"MJREC\"]]\n",
    "\n",
    "data_selection.loc[data_selection['CIGREC'] != 1, 'CIGREC'] = 0\n",
    "data_selection.loc[data_selection['MJREC'] != 1, 'MJREC'] = 0\n",
    "\n",
    "data_selection.loc[data_selection['CIGEVER'] != 1, 'CIGEVER'] = 0\n",
    "data_selection.loc[data_selection['MJEVER'] != 1, 'MJEVER'] = 0\n",
    "\n",
    "print(data_selection.head())"
   ],
   "metadata": {
    "collapsed": false,
    "pycharm": {
     "name": "#%%\n",
     "is_executing": false
    }
   }
  },
  {
   "cell_type": "markdown",
   "source": [
    "We then analyze the correlation coefficients between these four variables."
   ],
   "metadata": {
    "collapsed": false
   }
  },
  {
   "cell_type": "code",
   "execution_count": 40,
   "outputs": [
    {
     "name": "stdout",
     "text": [
      "          CIGEVER    CIGREC    MJEVER     MJREC\nCIGEVER  1.000000  0.536949  0.557197  0.253175\nCIGREC   0.536949  1.000000  0.399840  0.309268\nMJEVER   0.557197  0.399840  1.000000  0.422643\nMJREC    0.253175  0.309268  0.422643  1.000000\n"
     ],
     "output_type": "stream"
    },
    {
     "data": {
      "text/plain": "<Figure size 432x288 with 2 Axes>",
      "image/png": "[encoded data removed]"
     },
     "metadata": {
      "needs_background": "light"
     },
     "output_type": "display_data"
    }
   ],
   "source": [
    "visualize_data(data_selection)"
   ],
   "metadata": {
    "collapsed": false,
    "pycharm": {
     "name": "#%%    \n",
     "is_executing": false
    }
   }
  },
  {
   "cell_type": "markdown",
   "source": [
    "We can see that there is a decent correlation (0.54) between trying cigarettes and using cigarettes in the past 30 days,\n",
    "and also that there is also a decent correlation (0.56) between trying cigarettes and trying marijuana. The relationship \n",
    "between chronic cigarette users and chronic marijuana seems to be much lower, with a correlation coefficient of only 0.31. \n",
    "Finally, it can be seen that the correlation of trying marijuana and using marijuana regularly is not near as high as \n",
    "the correlation between the indicators for cigarettes (0.42 v 0.54). Based on this analysis, it seems unlikely that \n",
    "there is major overlap between cigarette users and marijuana users however, there is an indication that trying cigarettes \n",
    "will lead to trying marijuana.  There is also evidence of the addictive factor of cigarettes, as the correlation\n",
    "coefficient between just trying cigarettes and being a chronic user is moderately high, especially compared to marijuana. "
   ],
   "metadata": {
    "collapsed": false
   }
  },
  {
   "cell_type": "markdown",
   "source": [
    "## Marijuana as a Gateway Drug\n",
    "One common argument against recreational marijuana laws is that it will be a gateway drug to harder drugs in the future;\n",
    "This analysis delves into this idea as we explore the relationship between marijuana use and harder drug use. \n",
    "We pick seven variables, if marijuana has ever been used, if it was used in the past 30 days, if cocaine has ever been used,\n",
    "if heroin has ever been used, if hallucinogens have ever been used, if inhalants have ever been used, and finally if non-prescribed \n",
    "prescription painkillers have ever been used. For the hallucinogens, inhalants and painkillers, we need to extract the amount who\n",
    "have never used the drug, which is show for each type of drug class, and is then broken down into more granular drugs.\n",
    "Since we are only looking at the overall classes, we can just take that number from the first drug type of each class (refer\n",
    "to the data for more information).\n",
    "\n",
    "Variables from the NSDUH study:\n",
    "* MJEVER: EVER USED MARIJUANA/HASHISH\n",
    "\n",
    "    1 = yes\n",
    "    \n",
    "    0 = no\n",
    "    \n",
    "* MJREC: TIME SINCE LAST USED MARIJUANA/HASHISH\n",
    "\n",
    "    1 = Within the past 30 days\n",
    "    \n",
    "    0 = Other *\n",
    "    \n",
    "* COCEVER: EVER USED COCAINE\n",
    "\n",
    "    1 = yes\n",
    "    \n",
    "    0 = no\n",
    "    \n",
    "* HEREVER: EVER USED HEROIN\n",
    "\n",
    "    1 = yes\n",
    "    \n",
    "    0 = no\n",
    "\n",
    "* --HALLUCINOGENS\n",
    "* LSD: EVER USED LSD (\"ACID\")\n",
    "\n",
    "    1 = yes\n",
    "    \n",
    "    0 = no\n",
    "\n",
    "* --INHALANTS\n",
    "* AMYLNIT: EVER INHALED AMYL NITRITE, 'POPPERS,' RUSH, ETC. Freq Pct\n",
    "\n",
    "    1 = yes\n",
    "    \n",
    "    0 = no\n",
    "\n",
    "* --PAIN RELIEVERS\n",
    "* DARVTYLC: EVER USED DARVOCET, DARVON, OR TYLENOL W/ CODEINE\n",
    "\n",
    "    1 = yes\n",
    "    \n",
    "    0 = no\n",
    "    "
   ],
   "metadata": {
    "collapsed": false
   }
  },
  {
   "cell_type": "code",
   "execution_count": 42,
   "outputs": [
    {
     "name": "stdout",
     "text": [
      "   MJEVER  MJREC  COCEVER  HEREVER  LSD  AMYLNIT  DARVTYLC\n0       0      0        0        0    0        0         0\n1       0      0        0        0    0        0         0\n2       0      0        0        0    0        0         0\n3       1      1        1        0    1        0         0\n4       0      0        0        0    0        0         0\n"
     ],
     "output_type": "stream"
    }
   ],
   "source": [
    "data_selection = data[[\"MJEVER\", \"MJREC\", \"COCEVER\", \"HEREVER\", \"LSD\", \"AMYLNIT\", \"DARVTYLC\"]]\n",
    "\n",
    "# MARIJUANA\n",
    "data_selection.loc[data_selection['MJEVER'] != 1, 'MJEVER'] = 0\n",
    "data_selection.loc[data_selection['MJREC'] != 1, 'MJREC'] = 0\n",
    "\n",
    "# COCAINE\n",
    "data_selection.loc[data_selection['COCEVER'] != 1, 'COCEVER'] = 0\n",
    "\n",
    "# HEROIN\n",
    "data_selection.loc[data_selection['HEREVER'] != 1, 'HEREVER'] = 0\n",
    "\n",
    "# HALLUCINOGENS\n",
    "data_selection.loc[data_selection['LSD'] != 91, 'LSD'] = 1\n",
    "data_selection.loc[data_selection['LSD'] == 91, 'LSD'] = 0\n",
    "\n",
    "# INHALANTS\n",
    "data_selection.loc[data_selection['AMYLNIT'] != 91, 'AMYLNIT'] = 1\n",
    "data_selection.loc[data_selection['AMYLNIT'] == 91, 'AMYLNIT'] = 0\n",
    "\n",
    "# PAIN RELIEVERS\n",
    "data_selection.loc[(data_selection[\"DARVTYLC\"] == 91) | (data_selection[\"DARVTYLC\"] == 81), 'DARVTYLC'] = 0\n",
    "data_selection.loc[(data_selection[\"DARVTYLC\"] != 0), 'DARVTYLC'] = 1\n",
    "\n",
    "print(data_selection.head())"
   ],
   "metadata": {
    "collapsed": false,
    "pycharm": {
     "name": "#%%\n",
     "is_executing": false
    }
   }
  },
  {
   "cell_type": "code",
   "execution_count": 43,
   "outputs": [
    {
     "name": "stdout",
     "text": [
      "            MJEVER     MJREC   COCEVER   HEREVER       LSD   AMYLNIT  DARVTYLC\nMJEVER    1.000000  0.422643  0.411049  0.144564  0.438396  0.231772  0.330673\nMJREC     0.422643  1.000000  0.281007  0.129407  0.368165  0.187803  0.285053\nCOCEVER   0.411049  0.281007  1.000000  0.318479  0.574959  0.322684  0.369791\nHEREVER   0.144564  0.129407  0.318479  1.000000  0.255902  0.195508  0.213250\nLSD       0.438396  0.368165  0.574959  0.255902  1.000000  0.351173  0.397328\nAMYLNIT   0.231772  0.187803  0.322684  0.195508  0.351173  1.000000  0.290249\nDARVTYLC  0.330673  0.285053  0.369791  0.213250  0.397328  0.290249  1.000000\n"
     ],
     "output_type": "stream"
    },
    {
     "data": {
      "text/plain": "<Figure size 432x288 with 2 Axes>",
      "image/png": "[encoded data removed]"
     },
     "metadata": {
      "needs_background": "light"
     },
     "output_type": "display_data"
    }
   ],
   "source": [
    "visualize_data(data_selection)"
   ],
   "metadata": {
    "collapsed": false,
    "pycharm": {
     "name": "#%%\n",
     "is_executing": false
    }
   }
  },
  {
   "cell_type": "markdown",
   "source": [
    "There are a couple intresting correlations we can look into. The National Institute on Drug Abuse (NIDA) has performed several\n",
    "[studies](https://www.drugabuse.gov/publications/research-reports/marijuana/marijuana-gateway-drug) \n",
    "on if marijuana will lead to harder drug abuse. They go on to state that \"...the majority of people who use marijuana \n",
    "do not go on to use other, \"harder\" substances.\" We can see an argument for both sides in our data. While the correlation\n",
    "coefficients on trying marijuana and trying heroin, inhalants or prescription pain killers are low \n",
    "(0.14, 0.23, 0.33 respectively), the correlation coefficients on cocaine and LSD are moderate at .41 and .43 respectively.\n",
    "The story stays pretty similar if we look at chronic marijuana users, with the coefficients reduced, but not substantially.\n",
    "\n",
    "This shows that while on the whole, our data would agree with the NIDA's findings that the majority of chronic marijuana\n",
    "users do not go on to use harder drugs. The exceptions seem to be with LSD and cocaine. This could be due marijuana having\n",
    "similar but milder effects than LSD, resulting in users wanting more a \"psychedelic\" experience. Cocaine could be used\n",
    "to counteract the effects of the marijuana, or vice vera to keep a balance of the feelings, potentially explaining the\n",
    "higher correlation."
   ],
   "metadata": {
    "collapsed": false
   }
  },
  {
   "cell_type": "markdown",
   "source": [
    "## Prescription Painkiller Use Leading to Heroin Use\n",
    "With the opioid crisis afoot, it is interesting to look at the relationship between non-prescribed prescription painkillers\n",
    "and heroin use. In this analysis we look at the relationship between heroin and painkiller abuse.\n",
    "\n",
    "Variables from the NSDUH study:\n",
    "* HEREVER: EVER USED HEROIN\n",
    "\n",
    "    1 = yes\n",
    "    \n",
    "    0 = no\n",
    "\n",
    "* --PAIN RELIEVERS\n",
    "* DARVTYLC: EVER USED DARVOCET, DARVON, OR TYLENOL W/ CODEINE\n",
    "\n",
    "    1 = yes\n",
    "    \n",
    "    0 = no\n",
    "    "
   ],
   "metadata": {
    "collapsed": false
   }
  },
  {
   "cell_type": "code",
   "execution_count": 46,
   "outputs": [
    {
     "name": "stdout",
     "text": [
      "   HEREVER  DARVTYLC\n0        0         0\n1        0         0\n2        0         0\n3        0         0\n4        0         0\n"
     ],
     "output_type": "stream"
    }
   ],
   "source": [
    "data_selection = data[[\"HEREVER\", \"DARVTYLC\"]]\n",
    "\n",
    "# HEROIN\n",
    "data_selection.loc[data_selection['HEREVER'] != 1, 'HEREVER'] = 0\n",
    "\n",
    "# PAIN RELIEVERS\n",
    "data_selection.loc[(data_selection[\"DARVTYLC\"] == 91) | (data_selection[\"DARVTYLC\"] == 81), 'DARVTYLC'] = 0\n",
    "data_selection.loc[(data_selection[\"DARVTYLC\"] != 0), 'DARVTYLC'] = 1\n",
    "\n",
    "print(data_selection.head())"
   ],
   "metadata": {
    "collapsed": false,
    "pycharm": {
     "name": "#%%\n",
     "is_executing": false
    }
   }
  },
  {
   "cell_type": "code",
   "execution_count": 47,
   "outputs": [
    {
     "name": "stdout",
     "text": [
      "          HEREVER  DARVTYLC\nHEREVER   1.00000   0.21325\nDARVTYLC  0.21325   1.00000\n"
     ],
     "output_type": "stream"
    },
    {
     "data": {
      "text/plain": "<Figure size 432x288 with 2 Axes>",
      "image/png": "[encoded data removed]"
     },
     "metadata": {
      "needs_background": "light"
     },
     "output_type": "display_data"
    }
   ],
   "source": [
    "visualize_data(data_selection)"
   ],
   "metadata": {
    "collapsed": false,
    "pycharm": {
     "name": "#%%\n",
     "is_executing": false
    }
   }
  },
  {
   "cell_type": "markdown",
   "source": [
    "Keeping in mind that this data is from 2012, we can see that there isn't a very strong correlation (0.21) this data between\n",
    "prescription painkiller abuse and heroin use. OxyCotin was released in 1995 ([Timeline](https://www.fda.gov/media/106638/download)\n",
    ", [Opioid Overdose Crisis](https://www.drugabuse.gov/drugs-abuse/opioids/opioid-overdose-crisis)) so this data is only at\n",
    "the beginning of the modern day crisis, before the current epidemic."
   ],
   "metadata": {
    "collapsed": false
   }
  },
  {
   "cell_type": "markdown",
   "source": [
    "## Beginning Age of Use as an Indicator of Later Drug Use\n",
    "One possible indication of later hard drug use is if the person started using cigarettes or drugs at a young age.\n",
    "Potentally, the younger the age, the more likely they would be to move on to harder drugs to get their fix as lesser\n",
    "drugs have a weakened effect.\n",
    "\n",
    "Variables from the NSDUH study:\n",
    "* IRCIGAGE: IMPUTATION-REVISED CIGARETTE AGE OF FIRST USE\n",
    "\n",
    "    991 = NEVER USED\n",
    "    \n",
    "    All others are ages\n",
    "\n",
    "* IRMJAGE: IMPUTATION-REVISED MARIJUANA AGE OF FIRST USE\n",
    "\n",
    "    991 = NEVER USED\n",
    "    \n",
    "    All others are ages\n",
    "    \n",
    "* IRCOCAGE: IMPUTATION-REVISED COCAINE AGE OF FIRST USE\n",
    "\n",
    "    991 = NEVER USED\n",
    "    \n",
    "    All others are ages\n",
    "    \n",
    "* COCEVER: EVER USED COCAINE\n",
    "\n",
    "    1 = yes\n",
    "    \n",
    "    0 = no\n",
    "    \n",
    "* HEREVER: EVER USED HEROIN\n",
    "\n",
    "    1 = yes\n",
    "    \n",
    "    0 = no\n",
    "\n",
    "* --HALLUCINOGENS\n",
    "* LSD: EVER USED LSD (\"ACID\")\n",
    "\n",
    "    1 = yes\n",
    "    \n",
    "    0 = no\n",
    "\n",
    "* --INHALANTS\n",
    "* AMYLNIT: EVER INHALED AMYL NITRITE, 'POPPERS,' RUSH, ETC. Freq Pct\n",
    "\n",
    "    1 = yes\n",
    "    \n",
    "    0 = no\n",
    "\n",
    "* --PAIN RELIEVERS\n",
    "* DARVTYLC: EVER USED DARVOCET, DARVON, OR TYLENOL W/ CODEINE\n",
    "\n",
    "    1 = yes\n",
    "    \n",
    "    0 = no"
   ],
   "metadata": {
    "collapsed": false,
    "pycharm": {
     "name": "#%% md\n"
    }
   }
  },
  {
   "cell_type": "markdown",
   "source": [
    "We can see from the data that there seem to be some extremely young ages, such as 1, 2, 3, etc at which people\n",
    "began smoking. It is seemingly impossible for a baby to smoke, but it is possible that they were potentially around\n",
    "smoking so much that they could be considered a smoker via second hand smoke. None the less, these are likely outliers\n",
    "in the data, we also should keep in mind that this data is self reported.\n"
   ],
   "metadata": {
    "collapsed": false
   }
  },
  {
   "cell_type": "code",
   "execution_count": 6,
   "outputs": [
    {
     "name": "stdout",
     "text": [
      "           IRCIGAGE       IRMJAGE      IRCOCAGE\ncount  55268.000000  55268.000000  55268.000000\nmean     498.886336    598.704078    885.414869\nstd      487.746581    477.915086    302.311272\nmin        1.000000      2.000000      1.000000\n25%       15.000000     17.000000    991.000000\n50%       28.000000    991.000000    991.000000\n75%      991.000000    991.000000    991.000000\nmax      991.000000    991.000000    991.000000\n\n     IRCIGAGE  IRMJAGE  IRCOCAGE\n1         7.0      NaN       3.0\n2         4.0      1.0       3.0\n3        16.0      1.0       1.0\n4        22.0      5.0       3.0\n5        82.0     13.0       1.0\n6       122.0     14.0       NaN\n7       201.0     43.0       2.0\n8       333.0     86.0       1.0\n9       421.0    117.0       5.0\n10      794.0    218.0       2.0\n11      737.0    332.0      15.0\n12     2416.0   1140.0      38.0\n13     2617.0   1906.0      67.0\n14     2908.0   2383.0     162.0\n15     3734.0   3058.0     343.0\n16     3779.0   3597.0     592.0\n17     2421.0   2369.0     690.0\n18     3233.0   2610.0     867.0\n19     1197.0   1167.0     556.0\n20      961.0    953.0     592.0\n21      658.0    670.0     525.0\n22      345.0    400.0     327.0\n23      181.0    230.0     203.0\n24      126.0    159.0     155.0\n25      198.0    231.0     301.0\n26       40.0     73.0      91.0\n27       50.0     46.0      82.0\n28       44.0     71.0      70.0\n29       21.0     30.0      34.0\n30       80.0    102.0     104.0\n..        ...      ...       ...\n35       20.0     45.0      45.0\n36        1.0     13.0       6.0\n37        7.0      7.0       4.0\n38       10.0     17.0       8.0\n39        6.0      8.0       5.0\n40       20.0     32.0      21.0\n41        2.0      3.0       1.0\n42        7.0      3.0       2.0\n43        3.0      4.0       NaN\n44        3.0      4.0       4.0\n45        6.0     11.0      11.0\n46        1.0      3.0       1.0\n47        1.0      1.0       1.0\n48        NaN      5.0       1.0\n49        NaN      1.0       NaN\n50        4.0      5.0       4.0\n51        NaN      NaN       1.0\n52        1.0      1.0       NaN\n53        NaN      3.0       NaN\n54        1.0      1.0       NaN\n55        NaN      3.0       2.0\n56        NaN      1.0       NaN\n58        NaN      1.0       NaN\n59        NaN      1.0       NaN\n63        NaN      1.0       NaN\n65        NaN      1.0       NaN\n67        NaN      1.0       NaN\n68        1.0      NaN       NaN\n69        NaN      2.0       NaN\n991   27387.0  33019.0   49259.0\n\n[64 rows x 3 columns]\n"
     ],
     "output_type": "stream"
    }
   ],
   "source": [
    "data_selection = data[[\"IRCIGAGE\", \"IRMJAGE\", \"IRCOCAGE\", \"COCEVER\", \"HEREVER\", \"LSD\", \"AMYLNIT\", \"DARVTYLC\"]]\n",
    "\n",
    "ages = data_selection[[\"IRCIGAGE\", \"IRMJAGE\", \"IRCOCAGE\"]]\n",
    "print(ages.describe())\n",
    "print()\n",
    "print(ages.apply(pd.Series.value_counts).sort_index())\n"
   ],
   "metadata": {
    "collapsed": false,
    "pycharm": {
     "name": "#%%\n",
     "is_executing": false
    }
   }
  },
  {
   "cell_type": "code",
   "execution_count": 7,
   "outputs": [],
   "source": [
    "import numpy as np\n",
    "# COCAINE\n",
    "data_selection.loc[data_selection['COCEVER'] != 1, 'COCEVER'] = 0\n",
    "\n",
    "# HEROIN\n",
    "data_selection.loc[data_selection['HEREVER'] != 1, 'HEREVER'] = 0\n",
    "\n",
    "# HALLUCINOGENS\n",
    "data_selection.loc[data_selection['LSD'] != 91, 'LSD'] = 1\n",
    "data_selection.loc[data_selection['LSD'] == 91, 'LSD'] = 0\n",
    "\n",
    "# INHALANTS\n",
    "data_selection.loc[data_selection['AMYLNIT'] != 91, 'AMYLNIT'] = 1\n",
    "data_selection.loc[data_selection['AMYLNIT'] == 91, 'AMYLNIT'] = 0\n",
    "\n",
    "# PAIN RELIEVERS\n",
    "data_selection.loc[(data_selection[\"DARVTYLC\"] == 91) | (data_selection[\"DARVTYLC\"] == 81), 'DARVTYLC'] = 0\n",
    "data_selection.loc[(data_selection[\"DARVTYLC\"] != 0), 'DARVTYLC'] = 1"
   ],
   "metadata": {
    "collapsed": false,
    "pycharm": {
     "name": "#%%\n",
     "is_executing": false
    }
   }
  },
  {
   "cell_type": "markdown",
   "source": [
    "Since we have a mixture of continuous and binary variables,\n",
    "pandas will use a different correlation method than the standard Pearson correlation coefficient. The method used is the \n",
    "Point-Biserial correlation coefficient is a correlation measure of the strength of association between a continuous-level \n",
    "variable (ratio or interval data) and a binary variable, you can learn more about this method \n",
    "[here](https://www.statisticssolutions.com/point-biserial-correlation/).\n",
    "\n",
    "\n",
    "We can see below that there are relatively small correlation coefficients between starting age of most drugs, with the\n",
    "exception of the cocaine age and cocaine drug use. We can see that there seems to be an extremely strong negative correlation \n",
    "between cocaine age and cocaine usage, suggesting that as as age goes up, there is a large decrease in trying cocaine.\n",
    "\n",
    "\n",
    "If we look into this a bit more, we can discover that only a small proportion of people in the study ever used cocaine,\n",
    "and that those people are marked with a \"991\" for their age. This could potentially explain the extremely larger negative\n",
    "correlation coefficient. If we rerun the data with just cocaine users and their age, we can see that the correlation\n",
    "really drops out, and shows that we need to be careful with correlation and how our data is constructed and labeled. \n",
    "*This observation is present in the rest of the age data as well, making us evaluate each set of ages and effects \n",
    "individually*."
   ],
   "metadata": {
    "collapsed": false
   }
  },
  {
   "cell_type": "code",
   "execution_count": 52,
   "outputs": [
    {
     "name": "stdout",
     "text": [
      "          IRCIGAGE   IRMJAGE  IRCOCAGE   COCEVER   HEREVER       LSD  \\\nIRCIGAGE  1.000000  0.558225  0.314093 -0.313990 -0.115973 -0.324698   \nIRMJAGE   0.558225  1.000000  0.411730 -0.411628 -0.145131 -0.439352   \nIRCOCAGE  0.314093  0.411730  1.000000 -0.999799 -0.319101 -0.575546   \nCOCEVER  -0.313990 -0.411628 -0.999799  1.000000  0.318479  0.574959   \nHEREVER  -0.115973 -0.145131 -0.319101  0.318479  1.000000  0.255902   \nLSD      -0.324698 -0.439352 -0.575546  0.574959  0.255902  1.000000   \nAMYLNIT  -0.177535 -0.232464 -0.323205  0.322684  0.195508  0.351173   \nDARVTYLC -0.256342 -0.331628 -0.370311  0.369791  0.213250  0.397328   \n\n           AMYLNIT  DARVTYLC  \nIRCIGAGE -0.177535 -0.256342  \nIRMJAGE  -0.232464 -0.331628  \nIRCOCAGE -0.323205 -0.370311  \nCOCEVER   0.322684  0.369791  \nHEREVER   0.195508  0.213250  \nLSD       0.351173  0.397328  \nAMYLNIT   1.000000  0.290249  \nDARVTYLC  0.290249  1.000000  \n"
     ],
     "output_type": "stream"
    },
    {
     "data": {
      "text/plain": "<Figure size 432x288 with 2 Axes>",
      "image/png": "[encoded data removed]"
     },
     "metadata": {
      "needs_background": "light"
     },
     "output_type": "display_data"
    }
   ],
   "source": [
    "visualize_data(data_selection)"
   ],
   "metadata": {
    "collapsed": false,
    "pycharm": {
     "name": "#%%\n",
     "is_executing": false
    }
   }
  },
  {
   "cell_type": "markdown",
   "source": [
    "Now, we will analyze beginning cigarette usage and hard drug use."
   ],
   "metadata": {
    "collapsed": false
   }
  },
  {
   "cell_type": "code",
   "execution_count": 27,
   "outputs": [],
   "source": [
    "def age_graph_dist(data, drug_age_str):\n",
    "    desc = data.describe()\n",
    "    x = np.linspace(desc[drug_age_str][\"min\"], desc[drug_age_str][\"max\"], num=50)\n",
    "    \n",
    "    median = data[drug_age_str].median()\n",
    "    mu = desc[drug_age_str][\"mean\"]\n",
    "    sigma = desc[drug_age_str][\"std\"]\n",
    "    kertosis = data.kurtosis()[drug_age_str]\n",
    "    y = stats.norm.pdf(x, mu, sigma)\n",
    "    \n",
    "    fig = plt.figure(figsize=(8, 5))\n",
    "    grid = (10, 1)\n",
    "    \n",
    "    ax1 = plt.subplot2grid(grid, (0,0), rowspan=4, colspan=1)\n",
    "    ax1.plot(x, y, 'r--')\n",
    "    ax1.text(35, 0.075, 'mean: {}'.format(round(mu, 4)))\n",
    "    ax1.text(35, 0.060, 'std: {}'.format(round(sigma, 4)))\n",
    "    ax1.text(35, 0.045, 'kertosis: {}'.format(round(kertosis, 4)))\n",
    "    \n",
    "    ax2 = plt.subplot2grid(grid, (4,0), rowspan=4, colspan=1, sharex=ax1)\n",
    "    ax2.hist(data[drug_age_str].values, 10)\n",
    "    \n",
    "    ax3 = plt.subplot2grid(grid, (8,0), rowspan=2, colspan=1, sharex=ax1)\n",
    "    data.boxplot(drug_age_str, ax=ax3, vert=False)\n",
    "    ax3.text(0, 0.6, 'median: {}'.format(round(median, 4)))\n",
    "    plt.tight_layout()\n",
    "    fig.subplots_adjust(hspace=4.5)\n",
    "    plt.show()"
   ],
   "metadata": {
    "collapsed": false,
    "pycharm": {
     "name": "#%%\n",
     "is_executing": false
    }
   }
  },
  {
   "cell_type": "markdown",
   "source": [
    "#### Cigarette\n",
    "We can see below that the mean age of first cigarette use in about 15.5 years old, well below the age of 18 to buy cigarettes,\n",
    "but we can also see the kertosis is 8.44, which indicates that this is not a normal distribution and that a five number\n",
    "summary would be a better indicate the spread. We can see on the box plot that the median age is 15 \n",
    "as well, indicating that the average age of first cigarette use is rather low. \n",
    "The age of first trying cigarettes is weakly negatively correlated with eventual hard drug use.\n",
    "This data shows that the older you are, the less likely you are to try any hard drug, but not substantially less likely\n",
    "with each additional year of age. The only notable value is the negative correlation with ever abusing prescription\n",
    "pain killers. This could be due to somewhat similar but milder effects in using cigarettes which are plentiful,\n",
    "so no need to try and branch into pain killers."
   ],
   "metadata": {
    "collapsed": false
   }
  },
  {
   "cell_type": "code",
   "execution_count": 28,
   "outputs": [
    {
     "data": {
      "text/plain": "<Figure size 576x360 with 3 Axes>",
      "image/png": "[encoded data removed]"
     },
     "metadata": {
      "needs_background": "light"
     },
     "output_type": "display_data"
    },
    {
     "name": "stdout",
     "text": [
      "          IRCIGAGE   COCEVER   HEREVER       LSD   AMYLNIT  DARVTYLC\nIRCIGAGE  1.000000 -0.133184 -0.097614 -0.144238 -0.157687 -0.140910\nCOCEVER  -0.133184  1.000000  0.304264  0.547300  0.321687  0.356510\nHEREVER  -0.097614  0.304264  1.000000  0.242831  0.202882  0.215645\nLSD      -0.144238  0.547300  0.242831  1.000000  0.346085  0.386325\nAMYLNIT  -0.157687  0.321687  0.202882  0.346085  1.000000  0.287808\nDARVTYLC -0.140910  0.356510  0.215645  0.386325  0.287808  1.000000\n"
     ],
     "output_type": "stream"
    },
    {
     "data": {
      "text/plain": "<Figure size 432x288 with 2 Axes>",
      "image/png": "[encoded data removed]"
     },
     "metadata": {
      "needs_background": "light"
     },
     "output_type": "display_data"
    }
   ],
   "source": [
    "from scipy import stats\n",
    "# remove people who have never tried anything\n",
    "rows_to_delete = data_selection[(data_selection[\"IRCIGAGE\"] == 991) & \n",
    "                                (data_selection[\"IRMJAGE\" ] == 991) &\n",
    "                                (data_selection[\"IRCOCAGE\"] == 991) ].index\n",
    "data_selection.drop(rows_to_delete , inplace=True)\n",
    "\n",
    "cig_age_data = data_selection[data_selection['IRCIGAGE'] != 991]\n",
    "cig_age_data.drop([\"IRMJAGE\", \"IRCOCAGE\"] , inplace=True, axis=1)\n",
    "\n",
    "age_graph_dist(cig_age_data, \"IRCIGAGE\")\n",
    "visualize_data(cig_age_data, [0])"
   ],
   "metadata": {
    "collapsed": false,
    "pycharm": {
     "name": "#%%\n",
     "is_executing": false
    }
   }
  },
  {
   "cell_type": "markdown",
   "source": [
    "#### Marijuana\n",
    "We can see that the mean age of first marijuana use is 16.5 and the kertosis is 17.6, indicating that this also is not a normal\n",
    "the distribution is not normal. We can see from the 5 box plot that the median slightly lower than the mean at 16 years old, and\n",
    "that there is a large portion of people in the younger age brackets, while the mean indicates an upward skew, and looking at\n",
    "the box plot, we can see that there are a lot of outliers at the higher ages.\n",
    "Looking at the starting age of marijuana use, we can see that again, the relationships are weakly negative with age across\n",
    "the board. LSD is the most negative at -0.21, showing that as age goes up, the tendency to try LSD goes down. While this is\n",
    "a weak finding, it is plausible that the older someone is at the start of trying marijuana, the less likely they are to\n",
    "need a stronger drug as they don't have as much time to build up a tolerance."
   ],
   "metadata": {
    "collapsed": false
   }
  },
  {
   "cell_type": "code",
   "execution_count": 29,
   "outputs": [
    {
     "name": "stdout",
     "text": [
      "(9129, 8)\n(22249, 8)\n",
      "           IRMJAGE   COCEVER   HEREVER       LSD   AMYLNIT  DARVTYLC\nIRMJAGE   1.000000 -0.166748 -0.122773 -0.213517 -0.164184 -0.190010\nCOCEVER  -0.166748  1.000000  0.291925  0.503942  0.297608  0.322436\nHEREVER  -0.122773  0.291925  1.000000  0.224179  0.192636  0.208785\nLSD      -0.213517  0.503942  0.224179  1.000000  0.320252  0.346951\nAMYLNIT  -0.164184  0.297608  0.192636  0.320252  1.000000  0.268607\nDARVTYLC -0.190010  0.322436  0.208785  0.346951  0.268607  1.000000\n"
     ],
     "output_type": "stream"
    },
    {
     "data": {
      "text/plain": "<Figure size 576x360 with 3 Axes>",
      "image/png": "[encoded data removed]"
     },
     "metadata": {
      "needs_background": "light"
     },
     "output_type": "display_data"
    },
    {
     "data": {
      "text/plain": "<Figure size 432x288 with 2 Axes>",
      "image/png": "[encoded data removed]"
     },
     "metadata": {
      "needs_background": "light"
     },
     "output_type": "display_data"
    }
   ],
   "source": [
    "print(data_selection[data_selection['IRMJAGE'] == 991].shape)\n",
    "print(data_selection[data_selection['IRMJAGE'] != 991].shape)\n",
    "coc_age_data = data_selection[data_selection['IRMJAGE'] != 991]\n",
    "coc_age_data.drop([\"IRCOCAGE\", \"IRCIGAGE\"] , inplace=True, axis=1)\n",
    "\n",
    "age_graph_dist(coc_age_data, \"IRMJAGE\")\n",
    "visualize_data(coc_age_data, [0])"
   ],
   "metadata": {
    "collapsed": false,
    "pycharm": {
     "name": "#%%\n",
     "is_executing": false
    }
   }
  },
  {
   "cell_type": "markdown",
   "source": [
    "#### Cocaine\n",
    "We can see that the mean for the age of first cocaine use is 19.88, the oldest age so far. Our kertosis is 6.2, which again,\n",
    "shows this is not a normal distribution, but our median is slightly lower than our mean, at 19 years old.\n",
    "Finally we look at the relationship between starting age of cocaine use and hard drug use, we can see that, unsurprisingly,\n",
    "there is a positive relationship between the age of trying cocaine and having ever tried cocaine. Across the rest of the\n",
    "board, the results are similar to the starting age of cigarette use, with a notably lower correlation coefficient in\n",
    "prescription pain killer abuse."
   ],
   "metadata": {
    "collapsed": false
   }
  },
  {
   "cell_type": "code",
   "execution_count": 30,
   "outputs": [
    {
     "name": "stdout",
     "text": [
      "(25369, 8)\n(6009, 8)\n",
      "          IRCOCAGE   COCEVER   HEREVER       LSD   AMYLNIT  DARVTYLC\nIRCOCAGE  1.000000  0.001432 -0.145659 -0.165516 -0.135938 -0.201559\nCOCEVER   0.001432  1.000000  0.006912 -0.012023 -0.006028  0.001803\nHEREVER  -0.145659  0.006912  1.000000  0.145700  0.166410  0.202859\nLSD      -0.165516 -0.012023  0.145700  1.000000  0.271761  0.254029\nAMYLNIT  -0.135938 -0.006028  0.166410  0.271761  1.000000  0.236419\nDARVTYLC -0.201559  0.001803  0.202859  0.254029  0.236419  1.000000\n"
     ],
     "output_type": "stream"
    },
    {
     "data": {
      "text/plain": "<Figure size 576x360 with 3 Axes>",
      "image/png": "[encoded data removed]"
     },
     "metadata": {
      "needs_background": "light"
     },
     "output_type": "display_data"
    },
    {
     "data": {
      "text/plain": "<Figure size 432x288 with 2 Axes>",
      "image/png": "[encoded data removed]"
     },
     "metadata": {
      "needs_background": "light"
     },
     "output_type": "display_data"
    }
   ],
   "source": [
    "print(data_selection[data_selection['IRCOCAGE'] == 991].shape)\n",
    "print(data_selection[data_selection['IRCOCAGE'] != 991].shape)\n",
    "coc_age_data = data_selection[data_selection['IRCOCAGE'] != 991]\n",
    "coc_age_data.drop([\"IRMJAGE\", \"IRCIGAGE\"] , inplace=True, axis=1)\n",
    "\n",
    "age_graph_dist(coc_age_data, \"IRCOCAGE\")\n",
    "visualize_data(coc_age_data, [0])"
   ],
   "metadata": {
    "collapsed": false,
    "pycharm": {
     "name": "#%%\n",
     "is_executing": false
    }
   }
  },
  {
   "cell_type": "markdown",
   "source": [
    "## Conclusion\n",
    "In conclusion, we found that there is evidence in our data of the addictive quality of cigarettes, as the correlation \n",
    "coefficient between trying cigarettes and being a chronic user is moderately high. We also found there is also no significant overlap \n",
    "between cigarette users and marijuana users however, there is an indication that trying cigarettes will lead to trying marijuana.\n",
    "\n",
    "We also saw that there is evidence in our data that the majority of chronic marijuana\n",
    "users do not go on to use harder drugs, with exceptions being LSD and cocaine. We also explored some possible explanations\n",
    "for this correlation.\n",
    "\n",
    "Surprisingly, we also found that the data showed there is only a weak correlation (0.21) between prescription painkiller abuse and \n",
    "heroin use. This is likely due to the year this data was collected as it took many years for the epidemic to set in.\n",
    "\n",
    "Finally, we found that age of starting a drug has a seemingly small correlation with later trying harder drugs, with most of\n",
    "the correlations between starting cigarette use age, starting marijuana use age and starting cocaine use age being right\n",
    "around each other.\n"
   ],
   "metadata": {
    "collapsed": false
   }
  }
 ],
 "metadata": {
  "language_info": {
   "codemirror_mode": {
    "name": "ipython",
    "version": 2
   },
   "file_extension": ".py",
   "mimetype": "text/x-python",
   "name": "python",
   "nbconvert_exporter": "python",
   "pygments_lexer": "ipython2",
   "version": "2.7.6"
  },
  "kernelspec": {
   "name": "pycharm-e44fd937",
   "language": "python",
   "display_name": "PyCharm (ICPSR_analysis)"
  },
  "pycharm": {
   "stem_cell": {
    "cell_type": "raw",
    "source": [],
    "metadata": {
     "collapsed": false
    }
   }
  }
 },
 "nbformat": 4,
 "nbformat_minor": 0
}